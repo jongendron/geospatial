{
 "cells": [
  {
   "cell_type": "markdown",
   "metadata": {
    "id": "F7l7EPxWoDzd"
   },
   "source": [
    "# Working with Pandas\n",
    "\n",
    "![](images/python_foundation/pandas-logo.png)\n",
    "\n",
    "Pandas is a powerful library for working with data. Pandas provides fast and easy functions for reading data from files, and analyzing it.\n",
    "\n",
    "Pandas is based on another library called `numpy` - which is widely used in scientific computing. Pandas extends `numpy` and provides new data types such as **Index**, **Series** and **DataFrames**.\n",
    "\n",
    "Pandas implementation is very fast and efficient - so compared to other methods of data processing - using `pandas` results is simpler code and quick processing. We will now re-implement our code for reading a file and computing distance using Pandas."
   ]
  },
  {
   "cell_type": "markdown",
   "metadata": {
    "id": "lrcVw_Z4oD0H"
   },
   "source": [
    "By convention, `pandas` is commonly imported as `pd`"
   ]
  },
  {
   "cell_type": "code",
   "execution_count": 1,
   "metadata": {
    "id": "edaAS0iJoD0J"
   },
   "outputs": [],
   "source": [
    "import pandas as pd"
   ]
  },
  {
   "cell_type": "markdown",
   "metadata": {
    "id": "VZFQ_DdioD0P"
   },
   "source": [
    "## Reading Files"
   ]
  },
  {
   "cell_type": "code",
   "execution_count": 2,
   "metadata": {
    "id": "2HY8u3vcoD0Q"
   },
   "outputs": [],
   "source": [
    "import os\n",
    "data_pkg_path = 'data'\n",
    "filename = 'worldcities.csv'\n",
    "path = os.path.join(data_pkg_path, filename)"
   ]
  },
  {
   "cell_type": "markdown",
   "metadata": {
    "id": "JEYbAsvLoD0S"
   },
   "source": [
    "A **DataFrame** is the most used Pandas object. You can think of a DataFrame being equivalent to a Spreadsheet or an Attribute Table of a GIS layer. \n",
    "\n",
    "Pandas provide easy methods to directly read files into a DataFrame. You can use methods such as `read_csv()`, `read_excel()`, `read_hdf()` and so forth to read a variety of formats. Here we will read the `worldcitites.csv` file using `read_csv()` method."
   ]
  },
  {
   "cell_type": "code",
   "execution_count": 3,
   "metadata": {
    "id": "p4Y_A7HkoD0U"
   },
   "outputs": [],
   "source": [
    "df = pd.read_csv(path)"
   ]
  },
  {
   "cell_type": "code",
   "execution_count": 4,
   "metadata": {
    "id": "3qbqIXMKoD0V"
   },
   "outputs": [
    {
     "data": {
      "text/html": [
       "<div>\n",
       "<style scoped>\n",
       "    .dataframe tbody tr th:only-of-type {\n",
       "        vertical-align: middle;\n",
       "    }\n",
       "\n",
       "    .dataframe tbody tr th {\n",
       "        vertical-align: top;\n",
       "    }\n",
       "\n",
       "    .dataframe thead th {\n",
       "        text-align: right;\n",
       "    }\n",
       "</style>\n",
       "<table border=\"1\" class=\"dataframe\">\n",
       "  <thead>\n",
       "    <tr style=\"text-align: right;\">\n",
       "      <th></th>\n",
       "      <th>city</th>\n",
       "      <th>city_ascii</th>\n",
       "      <th>lat</th>\n",
       "      <th>lng</th>\n",
       "      <th>country</th>\n",
       "      <th>iso2</th>\n",
       "      <th>iso3</th>\n",
       "      <th>admin_name</th>\n",
       "      <th>capital</th>\n",
       "      <th>population</th>\n",
       "      <th>id</th>\n",
       "    </tr>\n",
       "  </thead>\n",
       "  <tbody>\n",
       "    <tr>\n",
       "      <th>0</th>\n",
       "      <td>Tokyo</td>\n",
       "      <td>Tokyo</td>\n",
       "      <td>35.6850</td>\n",
       "      <td>139.7514</td>\n",
       "      <td>Japan</td>\n",
       "      <td>JP</td>\n",
       "      <td>JPN</td>\n",
       "      <td>Tōkyō</td>\n",
       "      <td>primary</td>\n",
       "      <td>35676000.0</td>\n",
       "      <td>1392685764</td>\n",
       "    </tr>\n",
       "    <tr>\n",
       "      <th>1</th>\n",
       "      <td>New York</td>\n",
       "      <td>New York</td>\n",
       "      <td>40.6943</td>\n",
       "      <td>-73.9249</td>\n",
       "      <td>United States</td>\n",
       "      <td>US</td>\n",
       "      <td>USA</td>\n",
       "      <td>New York</td>\n",
       "      <td>NaN</td>\n",
       "      <td>19354922.0</td>\n",
       "      <td>1840034016</td>\n",
       "    </tr>\n",
       "    <tr>\n",
       "      <th>2</th>\n",
       "      <td>Mexico City</td>\n",
       "      <td>Mexico City</td>\n",
       "      <td>19.4424</td>\n",
       "      <td>-99.1310</td>\n",
       "      <td>Mexico</td>\n",
       "      <td>MX</td>\n",
       "      <td>MEX</td>\n",
       "      <td>Ciudad de México</td>\n",
       "      <td>primary</td>\n",
       "      <td>19028000.0</td>\n",
       "      <td>1484247881</td>\n",
       "    </tr>\n",
       "    <tr>\n",
       "      <th>3</th>\n",
       "      <td>Mumbai</td>\n",
       "      <td>Mumbai</td>\n",
       "      <td>19.0170</td>\n",
       "      <td>72.8570</td>\n",
       "      <td>India</td>\n",
       "      <td>IN</td>\n",
       "      <td>IND</td>\n",
       "      <td>Mahārāshtra</td>\n",
       "      <td>admin</td>\n",
       "      <td>18978000.0</td>\n",
       "      <td>1356226629</td>\n",
       "    </tr>\n",
       "    <tr>\n",
       "      <th>4</th>\n",
       "      <td>São Paulo</td>\n",
       "      <td>Sao Paulo</td>\n",
       "      <td>-23.5587</td>\n",
       "      <td>-46.6250</td>\n",
       "      <td>Brazil</td>\n",
       "      <td>BR</td>\n",
       "      <td>BRA</td>\n",
       "      <td>São Paulo</td>\n",
       "      <td>admin</td>\n",
       "      <td>18845000.0</td>\n",
       "      <td>1076532519</td>\n",
       "    </tr>\n",
       "    <tr>\n",
       "      <th>...</th>\n",
       "      <td>...</td>\n",
       "      <td>...</td>\n",
       "      <td>...</td>\n",
       "      <td>...</td>\n",
       "      <td>...</td>\n",
       "      <td>...</td>\n",
       "      <td>...</td>\n",
       "      <td>...</td>\n",
       "      <td>...</td>\n",
       "      <td>...</td>\n",
       "      <td>...</td>\n",
       "    </tr>\n",
       "    <tr>\n",
       "      <th>15488</th>\n",
       "      <td>Timmiarmiut</td>\n",
       "      <td>Timmiarmiut</td>\n",
       "      <td>62.5333</td>\n",
       "      <td>-42.2167</td>\n",
       "      <td>Greenland</td>\n",
       "      <td>GL</td>\n",
       "      <td>GRL</td>\n",
       "      <td>Kujalleq</td>\n",
       "      <td>NaN</td>\n",
       "      <td>10.0</td>\n",
       "      <td>1304206491</td>\n",
       "    </tr>\n",
       "    <tr>\n",
       "      <th>15489</th>\n",
       "      <td>Cheremoshna</td>\n",
       "      <td>Cheremoshna</td>\n",
       "      <td>51.3894</td>\n",
       "      <td>30.0989</td>\n",
       "      <td>Ukraine</td>\n",
       "      <td>UA</td>\n",
       "      <td>UKR</td>\n",
       "      <td>Kyyivs’ka Oblast’</td>\n",
       "      <td>NaN</td>\n",
       "      <td>0.0</td>\n",
       "      <td>1804043438</td>\n",
       "    </tr>\n",
       "    <tr>\n",
       "      <th>15490</th>\n",
       "      <td>Ambarchik</td>\n",
       "      <td>Ambarchik</td>\n",
       "      <td>69.6510</td>\n",
       "      <td>162.3336</td>\n",
       "      <td>Russia</td>\n",
       "      <td>RU</td>\n",
       "      <td>RUS</td>\n",
       "      <td>Sakha (Yakutiya)</td>\n",
       "      <td>NaN</td>\n",
       "      <td>0.0</td>\n",
       "      <td>1643739159</td>\n",
       "    </tr>\n",
       "    <tr>\n",
       "      <th>15491</th>\n",
       "      <td>Nordvik</td>\n",
       "      <td>Nordvik</td>\n",
       "      <td>74.0165</td>\n",
       "      <td>111.5100</td>\n",
       "      <td>Russia</td>\n",
       "      <td>RU</td>\n",
       "      <td>RUS</td>\n",
       "      <td>Krasnoyarskiy Kray</td>\n",
       "      <td>NaN</td>\n",
       "      <td>0.0</td>\n",
       "      <td>1643587468</td>\n",
       "    </tr>\n",
       "    <tr>\n",
       "      <th>15492</th>\n",
       "      <td>Ennadai</td>\n",
       "      <td>Ennadai</td>\n",
       "      <td>61.1333</td>\n",
       "      <td>-100.8833</td>\n",
       "      <td>Canada</td>\n",
       "      <td>CA</td>\n",
       "      <td>CAN</td>\n",
       "      <td>Nunavut</td>\n",
       "      <td>NaN</td>\n",
       "      <td>0.0</td>\n",
       "      <td>1124019423</td>\n",
       "    </tr>\n",
       "  </tbody>\n",
       "</table>\n",
       "<p>15493 rows × 11 columns</p>\n",
       "</div>"
      ],
      "text/plain": [
       "              city   city_ascii      lat       lng        country iso2 iso3  \\\n",
       "0            Tokyo        Tokyo  35.6850  139.7514          Japan   JP  JPN   \n",
       "1         New York     New York  40.6943  -73.9249  United States   US  USA   \n",
       "2      Mexico City  Mexico City  19.4424  -99.1310         Mexico   MX  MEX   \n",
       "3           Mumbai       Mumbai  19.0170   72.8570          India   IN  IND   \n",
       "4        São Paulo    Sao Paulo -23.5587  -46.6250         Brazil   BR  BRA   \n",
       "...            ...          ...      ...       ...            ...  ...  ...   \n",
       "15488  Timmiarmiut  Timmiarmiut  62.5333  -42.2167      Greenland   GL  GRL   \n",
       "15489  Cheremoshna  Cheremoshna  51.3894   30.0989        Ukraine   UA  UKR   \n",
       "15490    Ambarchik    Ambarchik  69.6510  162.3336         Russia   RU  RUS   \n",
       "15491      Nordvik      Nordvik  74.0165  111.5100         Russia   RU  RUS   \n",
       "15492      Ennadai      Ennadai  61.1333 -100.8833         Canada   CA  CAN   \n",
       "\n",
       "               admin_name  capital  population          id  \n",
       "0                   Tōkyō  primary  35676000.0  1392685764  \n",
       "1                New York      NaN  19354922.0  1840034016  \n",
       "2        Ciudad de México  primary  19028000.0  1484247881  \n",
       "3             Mahārāshtra    admin  18978000.0  1356226629  \n",
       "4               São Paulo    admin  18845000.0  1076532519  \n",
       "...                   ...      ...         ...         ...  \n",
       "15488            Kujalleq      NaN        10.0  1304206491  \n",
       "15489   Kyyivs’ka Oblast’      NaN         0.0  1804043438  \n",
       "15490    Sakha (Yakutiya)      NaN         0.0  1643739159  \n",
       "15491  Krasnoyarskiy Kray      NaN         0.0  1643587468  \n",
       "15492             Nunavut      NaN         0.0  1124019423  \n",
       "\n",
       "[15493 rows x 11 columns]"
      ]
     },
     "execution_count": 4,
     "metadata": {},
     "output_type": "execute_result"
    }
   ],
   "source": [
    "df"
   ]
  },
  {
   "cell_type": "markdown",
   "metadata": {
    "id": "2-6CoAy2oD0W"
   },
   "source": [
    "Once the file is read and a DataFrame object is created, we can inspect it using the `head()` method. "
   ]
  },
  {
   "cell_type": "code",
   "execution_count": 5,
   "metadata": {
    "id": "gCKPFOVooD0X"
   },
   "outputs": [
    {
     "name": "stdout",
     "output_type": "stream",
     "text": [
      "          city   city_ascii      lat       lng        country iso2 iso3  \\\n",
      "0        Tokyo        Tokyo  35.6850  139.7514          Japan   JP  JPN   \n",
      "1     New York     New York  40.6943  -73.9249  United States   US  USA   \n",
      "2  Mexico City  Mexico City  19.4424  -99.1310         Mexico   MX  MEX   \n",
      "3       Mumbai       Mumbai  19.0170   72.8570          India   IN  IND   \n",
      "4    São Paulo    Sao Paulo -23.5587  -46.6250         Brazil   BR  BRA   \n",
      "\n",
      "         admin_name  capital  population          id  \n",
      "0             Tōkyō  primary  35676000.0  1392685764  \n",
      "1          New York      NaN  19354922.0  1840034016  \n",
      "2  Ciudad de México  primary  19028000.0  1484247881  \n",
      "3       Mahārāshtra    admin  18978000.0  1356226629  \n",
      "4         São Paulo    admin  18845000.0  1076532519  \n"
     ]
    }
   ],
   "source": [
    "print(df.head())"
   ]
  },
  {
   "cell_type": "markdown",
   "metadata": {
    "id": "UVdHOjGioD0Y"
   },
   "source": [
    "There is also a `info()` method that shows basic information about the dataframe, such as number of rows/columns and data types of each column."
   ]
  },
  {
   "cell_type": "code",
   "execution_count": 6,
   "metadata": {
    "id": "pvIB1OG1oD0Y"
   },
   "outputs": [
    {
     "name": "stdout",
     "output_type": "stream",
     "text": [
      "<class 'pandas.core.frame.DataFrame'>\n",
      "RangeIndex: 15493 entries, 0 to 15492\n",
      "Data columns (total 11 columns):\n",
      " #   Column      Non-Null Count  Dtype  \n",
      "---  ------      --------------  -----  \n",
      " 0   city        15493 non-null  object \n",
      " 1   city_ascii  15493 non-null  object \n",
      " 2   lat         15493 non-null  float64\n",
      " 3   lng         15493 non-null  float64\n",
      " 4   country     15493 non-null  object \n",
      " 5   iso2        15462 non-null  object \n",
      " 6   iso3        15493 non-null  object \n",
      " 7   admin_name  15302 non-null  object \n",
      " 8   capital     5246 non-null   object \n",
      " 9   population  13808 non-null  float64\n",
      " 10  id          15493 non-null  int64  \n",
      "dtypes: float64(3), int64(1), object(7)\n",
      "memory usage: 1.3+ MB\n",
      "None\n"
     ]
    }
   ],
   "source": [
    "print(df.info())"
   ]
  },
  {
   "cell_type": "markdown",
   "metadata": {
    "id": "gK-Z-WJroD0Z"
   },
   "source": [
    "## Filtering Data\n",
    "\n",
    "Pandas have many ways of selecting and filtered data from a dataframe. We will now see how to use the [Boolean Filtering](https://pandas.pydata.org/pandas-docs/stable/user_guide/indexing.html#boolean-indexing) to filter the dataframe to rows that match a condition."
   ]
  },
  {
   "cell_type": "code",
   "execution_count": 7,
   "metadata": {
    "id": "xgP0uqOToD0a"
   },
   "outputs": [
    {
     "data": {
      "text/html": [
       "<div>\n",
       "<style scoped>\n",
       "    .dataframe tbody tr th:only-of-type {\n",
       "        vertical-align: middle;\n",
       "    }\n",
       "\n",
       "    .dataframe tbody tr th {\n",
       "        vertical-align: top;\n",
       "    }\n",
       "\n",
       "    .dataframe thead th {\n",
       "        text-align: right;\n",
       "    }\n",
       "</style>\n",
       "<table border=\"1\" class=\"dataframe\">\n",
       "  <thead>\n",
       "    <tr style=\"text-align: right;\">\n",
       "      <th></th>\n",
       "      <th>city</th>\n",
       "      <th>city_ascii</th>\n",
       "      <th>lat</th>\n",
       "      <th>lng</th>\n",
       "      <th>country</th>\n",
       "      <th>iso2</th>\n",
       "      <th>iso3</th>\n",
       "      <th>admin_name</th>\n",
       "      <th>capital</th>\n",
       "      <th>population</th>\n",
       "      <th>id</th>\n",
       "    </tr>\n",
       "  </thead>\n",
       "  <tbody>\n",
       "    <tr>\n",
       "      <th>3</th>\n",
       "      <td>Mumbai</td>\n",
       "      <td>Mumbai</td>\n",
       "      <td>19.0170</td>\n",
       "      <td>72.8570</td>\n",
       "      <td>India</td>\n",
       "      <td>IN</td>\n",
       "      <td>IND</td>\n",
       "      <td>Mahārāshtra</td>\n",
       "      <td>admin</td>\n",
       "      <td>18978000.0</td>\n",
       "      <td>1356226629</td>\n",
       "    </tr>\n",
       "    <tr>\n",
       "      <th>5</th>\n",
       "      <td>Delhi</td>\n",
       "      <td>Delhi</td>\n",
       "      <td>28.6700</td>\n",
       "      <td>77.2300</td>\n",
       "      <td>India</td>\n",
       "      <td>IN</td>\n",
       "      <td>IND</td>\n",
       "      <td>Delhi</td>\n",
       "      <td>admin</td>\n",
       "      <td>15926000.0</td>\n",
       "      <td>1356872604</td>\n",
       "    </tr>\n",
       "    <tr>\n",
       "      <th>7</th>\n",
       "      <td>Kolkata</td>\n",
       "      <td>Kolkata</td>\n",
       "      <td>22.4950</td>\n",
       "      <td>88.3247</td>\n",
       "      <td>India</td>\n",
       "      <td>IN</td>\n",
       "      <td>IND</td>\n",
       "      <td>West Bengal</td>\n",
       "      <td>admin</td>\n",
       "      <td>14787000.0</td>\n",
       "      <td>1356060520</td>\n",
       "    </tr>\n",
       "    <tr>\n",
       "      <th>34</th>\n",
       "      <td>Chennai</td>\n",
       "      <td>Chennai</td>\n",
       "      <td>13.0900</td>\n",
       "      <td>80.2800</td>\n",
       "      <td>India</td>\n",
       "      <td>IN</td>\n",
       "      <td>IND</td>\n",
       "      <td>Tamil Nādu</td>\n",
       "      <td>admin</td>\n",
       "      <td>7163000.0</td>\n",
       "      <td>1356374944</td>\n",
       "    </tr>\n",
       "    <tr>\n",
       "      <th>36</th>\n",
       "      <td>Bengalūru</td>\n",
       "      <td>Bengaluru</td>\n",
       "      <td>12.9700</td>\n",
       "      <td>77.5600</td>\n",
       "      <td>India</td>\n",
       "      <td>IN</td>\n",
       "      <td>IND</td>\n",
       "      <td>Karnātaka</td>\n",
       "      <td>admin</td>\n",
       "      <td>6787000.0</td>\n",
       "      <td>1356410365</td>\n",
       "    </tr>\n",
       "    <tr>\n",
       "      <th>...</th>\n",
       "      <td>...</td>\n",
       "      <td>...</td>\n",
       "      <td>...</td>\n",
       "      <td>...</td>\n",
       "      <td>...</td>\n",
       "      <td>...</td>\n",
       "      <td>...</td>\n",
       "      <td>...</td>\n",
       "      <td>...</td>\n",
       "      <td>...</td>\n",
       "      <td>...</td>\n",
       "    </tr>\n",
       "    <tr>\n",
       "      <th>7305</th>\n",
       "      <td>Karūr</td>\n",
       "      <td>Karur</td>\n",
       "      <td>10.9504</td>\n",
       "      <td>78.0833</td>\n",
       "      <td>India</td>\n",
       "      <td>IN</td>\n",
       "      <td>IND</td>\n",
       "      <td>Tamil Nādu</td>\n",
       "      <td>NaN</td>\n",
       "      <td>76915.0</td>\n",
       "      <td>1356837900</td>\n",
       "    </tr>\n",
       "    <tr>\n",
       "      <th>7441</th>\n",
       "      <td>Jorhāt</td>\n",
       "      <td>Jorhat</td>\n",
       "      <td>26.7500</td>\n",
       "      <td>94.2167</td>\n",
       "      <td>India</td>\n",
       "      <td>IN</td>\n",
       "      <td>IND</td>\n",
       "      <td>Assam</td>\n",
       "      <td>NaN</td>\n",
       "      <td>69033.0</td>\n",
       "      <td>1356638741</td>\n",
       "    </tr>\n",
       "    <tr>\n",
       "      <th>7583</th>\n",
       "      <td>Sopur</td>\n",
       "      <td>Sopur</td>\n",
       "      <td>34.3000</td>\n",
       "      <td>74.4667</td>\n",
       "      <td>India</td>\n",
       "      <td>IN</td>\n",
       "      <td>IND</td>\n",
       "      <td>Jammu and Kashmīr</td>\n",
       "      <td>NaN</td>\n",
       "      <td>63035.0</td>\n",
       "      <td>1356978065</td>\n",
       "    </tr>\n",
       "    <tr>\n",
       "      <th>7681</th>\n",
       "      <td>Tezpur</td>\n",
       "      <td>Tezpur</td>\n",
       "      <td>26.6338</td>\n",
       "      <td>92.8000</td>\n",
       "      <td>India</td>\n",
       "      <td>IN</td>\n",
       "      <td>IND</td>\n",
       "      <td>Assam</td>\n",
       "      <td>NaN</td>\n",
       "      <td>58851.0</td>\n",
       "      <td>1356299437</td>\n",
       "    </tr>\n",
       "    <tr>\n",
       "      <th>9384</th>\n",
       "      <td>Diu</td>\n",
       "      <td>Diu</td>\n",
       "      <td>20.7197</td>\n",
       "      <td>70.9904</td>\n",
       "      <td>India</td>\n",
       "      <td>IN</td>\n",
       "      <td>IND</td>\n",
       "      <td>Damān and Diu</td>\n",
       "      <td>NaN</td>\n",
       "      <td>23779.0</td>\n",
       "      <td>1356923516</td>\n",
       "    </tr>\n",
       "  </tbody>\n",
       "</table>\n",
       "<p>212 rows × 11 columns</p>\n",
       "</div>"
      ],
      "text/plain": [
       "           city city_ascii      lat      lng country iso2 iso3  \\\n",
       "3        Mumbai     Mumbai  19.0170  72.8570   India   IN  IND   \n",
       "5         Delhi      Delhi  28.6700  77.2300   India   IN  IND   \n",
       "7       Kolkata    Kolkata  22.4950  88.3247   India   IN  IND   \n",
       "34      Chennai    Chennai  13.0900  80.2800   India   IN  IND   \n",
       "36    Bengalūru  Bengaluru  12.9700  77.5600   India   IN  IND   \n",
       "...         ...        ...      ...      ...     ...  ...  ...   \n",
       "7305      Karūr      Karur  10.9504  78.0833   India   IN  IND   \n",
       "7441     Jorhāt     Jorhat  26.7500  94.2167   India   IN  IND   \n",
       "7583      Sopur      Sopur  34.3000  74.4667   India   IN  IND   \n",
       "7681     Tezpur     Tezpur  26.6338  92.8000   India   IN  IND   \n",
       "9384        Diu        Diu  20.7197  70.9904   India   IN  IND   \n",
       "\n",
       "             admin_name capital  population          id  \n",
       "3           Mahārāshtra   admin  18978000.0  1356226629  \n",
       "5                 Delhi   admin  15926000.0  1356872604  \n",
       "7           West Bengal   admin  14787000.0  1356060520  \n",
       "34          Tamil Nādu    admin   7163000.0  1356374944  \n",
       "36            Karnātaka   admin   6787000.0  1356410365  \n",
       "...                 ...     ...         ...         ...  \n",
       "7305        Tamil Nādu      NaN     76915.0  1356837900  \n",
       "7441              Assam     NaN     69033.0  1356638741  \n",
       "7583  Jammu and Kashmīr     NaN     63035.0  1356978065  \n",
       "7681              Assam     NaN     58851.0  1356299437  \n",
       "9384      Damān and Diu     NaN     23779.0  1356923516  \n",
       "\n",
       "[212 rows x 11 columns]"
      ]
     },
     "execution_count": 7,
     "metadata": {},
     "output_type": "execute_result"
    }
   ],
   "source": [
    "home_country = 'India'\n",
    "filtered = df[df['country'] == home_country]\n",
    "filtered"
   ]
  },
  {
   "cell_type": "code",
   "execution_count": 8,
   "metadata": {
    "id": "fGoPyHBgoD0a"
   },
   "outputs": [
    {
     "data": {
      "text/html": [
       "<div>\n",
       "<style scoped>\n",
       "    .dataframe tbody tr th:only-of-type {\n",
       "        vertical-align: middle;\n",
       "    }\n",
       "\n",
       "    .dataframe tbody tr th {\n",
       "        vertical-align: top;\n",
       "    }\n",
       "\n",
       "    .dataframe thead th {\n",
       "        text-align: right;\n",
       "    }\n",
       "</style>\n",
       "<table border=\"1\" class=\"dataframe\">\n",
       "  <thead>\n",
       "    <tr style=\"text-align: right;\">\n",
       "      <th></th>\n",
       "      <th>city</th>\n",
       "      <th>city_ascii</th>\n",
       "      <th>lat</th>\n",
       "      <th>lng</th>\n",
       "      <th>country</th>\n",
       "      <th>iso2</th>\n",
       "      <th>iso3</th>\n",
       "      <th>admin_name</th>\n",
       "      <th>capital</th>\n",
       "      <th>population</th>\n",
       "      <th>id</th>\n",
       "    </tr>\n",
       "  </thead>\n",
       "  <tbody>\n",
       "    <tr>\n",
       "      <th>0</th>\n",
       "      <td>Tokyo</td>\n",
       "      <td>Tokyo</td>\n",
       "      <td>35.6850</td>\n",
       "      <td>139.7514</td>\n",
       "      <td>Japan</td>\n",
       "      <td>JP</td>\n",
       "      <td>JPN</td>\n",
       "      <td>Tōkyō</td>\n",
       "      <td>primary</td>\n",
       "      <td>35676000.0</td>\n",
       "      <td>1392685764</td>\n",
       "    </tr>\n",
       "    <tr>\n",
       "      <th>1</th>\n",
       "      <td>New York</td>\n",
       "      <td>New York</td>\n",
       "      <td>40.6943</td>\n",
       "      <td>-73.9249</td>\n",
       "      <td>United States</td>\n",
       "      <td>US</td>\n",
       "      <td>USA</td>\n",
       "      <td>New York</td>\n",
       "      <td>NaN</td>\n",
       "      <td>19354922.0</td>\n",
       "      <td>1840034016</td>\n",
       "    </tr>\n",
       "    <tr>\n",
       "      <th>2</th>\n",
       "      <td>Mexico City</td>\n",
       "      <td>Mexico City</td>\n",
       "      <td>19.4424</td>\n",
       "      <td>-99.1310</td>\n",
       "      <td>Mexico</td>\n",
       "      <td>MX</td>\n",
       "      <td>MEX</td>\n",
       "      <td>Ciudad de México</td>\n",
       "      <td>primary</td>\n",
       "      <td>19028000.0</td>\n",
       "      <td>1484247881</td>\n",
       "    </tr>\n",
       "    <tr>\n",
       "      <th>3</th>\n",
       "      <td>Mumbai</td>\n",
       "      <td>Mumbai</td>\n",
       "      <td>19.0170</td>\n",
       "      <td>72.8570</td>\n",
       "      <td>India</td>\n",
       "      <td>IN</td>\n",
       "      <td>IND</td>\n",
       "      <td>Mahārāshtra</td>\n",
       "      <td>admin</td>\n",
       "      <td>18978000.0</td>\n",
       "      <td>1356226629</td>\n",
       "    </tr>\n",
       "    <tr>\n",
       "      <th>4</th>\n",
       "      <td>São Paulo</td>\n",
       "      <td>Sao Paulo</td>\n",
       "      <td>-23.5587</td>\n",
       "      <td>-46.6250</td>\n",
       "      <td>Brazil</td>\n",
       "      <td>BR</td>\n",
       "      <td>BRA</td>\n",
       "      <td>São Paulo</td>\n",
       "      <td>admin</td>\n",
       "      <td>18845000.0</td>\n",
       "      <td>1076532519</td>\n",
       "    </tr>\n",
       "    <tr>\n",
       "      <th>...</th>\n",
       "      <td>...</td>\n",
       "      <td>...</td>\n",
       "      <td>...</td>\n",
       "      <td>...</td>\n",
       "      <td>...</td>\n",
       "      <td>...</td>\n",
       "      <td>...</td>\n",
       "      <td>...</td>\n",
       "      <td>...</td>\n",
       "      <td>...</td>\n",
       "      <td>...</td>\n",
       "    </tr>\n",
       "    <tr>\n",
       "      <th>493</th>\n",
       "      <td>Rotterdam</td>\n",
       "      <td>Rotterdam</td>\n",
       "      <td>51.9200</td>\n",
       "      <td>4.4800</td>\n",
       "      <td>Netherlands</td>\n",
       "      <td>NL</td>\n",
       "      <td>NLD</td>\n",
       "      <td>Zuid-Holland</td>\n",
       "      <td>minor</td>\n",
       "      <td>1005000.0</td>\n",
       "      <td>1528892850</td>\n",
       "    </tr>\n",
       "    <tr>\n",
       "      <th>494</th>\n",
       "      <td>Homs</td>\n",
       "      <td>Homs</td>\n",
       "      <td>34.7300</td>\n",
       "      <td>36.7200</td>\n",
       "      <td>Syria</td>\n",
       "      <td>SY</td>\n",
       "      <td>SYR</td>\n",
       "      <td>Ḩimş</td>\n",
       "      <td>admin</td>\n",
       "      <td>1005000.0</td>\n",
       "      <td>1760013934</td>\n",
       "    </tr>\n",
       "    <tr>\n",
       "      <th>495</th>\n",
       "      <td>Cologne</td>\n",
       "      <td>Cologne</td>\n",
       "      <td>50.9300</td>\n",
       "      <td>6.9500</td>\n",
       "      <td>Germany</td>\n",
       "      <td>DE</td>\n",
       "      <td>DEU</td>\n",
       "      <td>North Rhine-Westphalia</td>\n",
       "      <td>NaN</td>\n",
       "      <td>1004000.0</td>\n",
       "      <td>1276015998</td>\n",
       "    </tr>\n",
       "    <tr>\n",
       "      <th>496</th>\n",
       "      <td>Qinhuangdao</td>\n",
       "      <td>Qinhuangdao</td>\n",
       "      <td>39.9304</td>\n",
       "      <td>119.6200</td>\n",
       "      <td>China</td>\n",
       "      <td>CN</td>\n",
       "      <td>CHN</td>\n",
       "      <td>Hebei</td>\n",
       "      <td>NaN</td>\n",
       "      <td>1003000.0</td>\n",
       "      <td>1156091093</td>\n",
       "    </tr>\n",
       "    <tr>\n",
       "      <th>497</th>\n",
       "      <td>Fès</td>\n",
       "      <td>Fes</td>\n",
       "      <td>34.0546</td>\n",
       "      <td>-5.0004</td>\n",
       "      <td>Morocco</td>\n",
       "      <td>MA</td>\n",
       "      <td>MAR</td>\n",
       "      <td>Fès-Meknès</td>\n",
       "      <td>admin</td>\n",
       "      <td>1002000.0</td>\n",
       "      <td>1504861997</td>\n",
       "    </tr>\n",
       "  </tbody>\n",
       "</table>\n",
       "<p>498 rows × 11 columns</p>\n",
       "</div>"
      ],
      "text/plain": [
       "            city   city_ascii      lat       lng        country iso2 iso3  \\\n",
       "0          Tokyo        Tokyo  35.6850  139.7514          Japan   JP  JPN   \n",
       "1       New York     New York  40.6943  -73.9249  United States   US  USA   \n",
       "2    Mexico City  Mexico City  19.4424  -99.1310         Mexico   MX  MEX   \n",
       "3         Mumbai       Mumbai  19.0170   72.8570          India   IN  IND   \n",
       "4      São Paulo    Sao Paulo -23.5587  -46.6250         Brazil   BR  BRA   \n",
       "..           ...          ...      ...       ...            ...  ...  ...   \n",
       "493    Rotterdam    Rotterdam  51.9200    4.4800    Netherlands   NL  NLD   \n",
       "494         Homs         Homs  34.7300   36.7200          Syria   SY  SYR   \n",
       "495      Cologne      Cologne  50.9300    6.9500        Germany   DE  DEU   \n",
       "496  Qinhuangdao  Qinhuangdao  39.9304  119.6200          China   CN  CHN   \n",
       "497          Fès          Fes  34.0546   -5.0004        Morocco   MA  MAR   \n",
       "\n",
       "                 admin_name  capital  population          id  \n",
       "0                     Tōkyō  primary  35676000.0  1392685764  \n",
       "1                  New York      NaN  19354922.0  1840034016  \n",
       "2          Ciudad de México  primary  19028000.0  1484247881  \n",
       "3               Mahārāshtra    admin  18978000.0  1356226629  \n",
       "4                 São Paulo    admin  18845000.0  1076532519  \n",
       "..                      ...      ...         ...         ...  \n",
       "493            Zuid-Holland    minor   1005000.0  1528892850  \n",
       "494                    Ḩimş    admin   1005000.0  1760013934  \n",
       "495  North Rhine-Westphalia      NaN   1004000.0  1276015998  \n",
       "496                   Hebei      NaN   1003000.0  1156091093  \n",
       "497              Fès-Meknès    admin   1002000.0  1504861997  \n",
       "\n",
       "[498 rows x 11 columns]"
      ]
     },
     "execution_count": 8,
     "metadata": {},
     "output_type": "execute_result"
    }
   ],
   "source": [
    "filtered = df[df['population'] > 1000000]\n",
    "filtered"
   ]
  },
  {
   "cell_type": "markdown",
   "metadata": {
    "id": "Fyr9EbnfoD0b"
   },
   "source": [
    "Filtered dataframe is a just view of the original data and we cannot make changes to it. We can save the filtered view to a new dataframe using the `copy()` method."
   ]
  },
  {
   "cell_type": "code",
   "execution_count": 10,
   "metadata": {
    "id": "e87IA79_oD0c"
   },
   "outputs": [],
   "source": [
    "country_df = df[df['country'] == home_country].copy()"
   ]
  },
  {
   "cell_type": "code",
   "execution_count": 11,
   "metadata": {
    "id": "6ySO46BqoD0d"
   },
   "outputs": [
    {
     "data": {
      "text/plain": [
       "72.857"
      ]
     },
     "execution_count": 11,
     "metadata": {},
     "output_type": "execute_result"
    }
   ],
   "source": [
    "home_city = 'Mumbai'\n",
    "city_df = df[df['city'] == home_city].iloc[0]['lng']\n",
    "city_df"
   ]
  },
  {
   "cell_type": "code",
   "execution_count": 12,
   "metadata": {
    "id": "isvwJww_oD0d"
   },
   "outputs": [],
   "source": [
    "# iloc[]"
   ]
  },
  {
   "cell_type": "code",
   "execution_count": 13,
   "metadata": {
    "id": "S6qYsA71oD0e"
   },
   "outputs": [
    {
     "data": {
      "text/plain": [
       "77.56"
      ]
     },
     "execution_count": 13,
     "metadata": {},
     "output_type": "execute_result"
    }
   ],
   "source": [
    "home_city = 'Bengaluru'\n",
    "\n",
    "country_df[country_df['city_ascii'] == home_city].iloc[0]['lng']"
   ]
  },
  {
   "cell_type": "markdown",
   "metadata": {
    "id": "TbdKjqRjoD0e"
   },
   "source": [
    "To locate a particular row or column from a dataframe, Pandas providea `loc[]` and `iloc[]` methods - that allows you to *locate* particular slices of data. Learn about [different indexing methods](https://pandas.pydata.org/pandas-docs/stable/user_guide/indexing.html#different-choices-for-indexing) in Pandas. Here we can use `iloc[]` to find the row matching the `home_city` name. Since `iloc[]` uses index, the *0* here refers to the first row."
   ]
  },
  {
   "cell_type": "code",
   "execution_count": 14,
   "metadata": {
    "id": "Ah9CDPUcoD0f"
   },
   "outputs": [
    {
     "name": "stdout",
     "output_type": "stream",
     "text": [
      "city           Bengalūru\n",
      "city_ascii     Bengaluru\n",
      "lat                12.97\n",
      "lng                77.56\n",
      "country            India\n",
      "iso2                  IN\n",
      "iso3                 IND\n",
      "admin_name     Karnātaka\n",
      "capital            admin\n",
      "population     6787000.0\n",
      "id            1356410365\n",
      "Name: 36, dtype: object\n"
     ]
    }
   ],
   "source": [
    "home_city = 'Bengaluru'\n",
    "filtered = country_df[country_df['city_ascii'] == home_city]\n",
    "print(filtered.iloc[0])"
   ]
  },
  {
   "cell_type": "markdown",
   "metadata": {
    "id": "q4UOBr3voD0i"
   },
   "source": [
    "Now that we have filtered down the data to a single row, we can select individual column values using column names."
   ]
  },
  {
   "cell_type": "code",
   "execution_count": 15,
   "metadata": {
    "id": "cds8lGXLoD0i"
   },
   "outputs": [
    {
     "name": "stdout",
     "output_type": "stream",
     "text": [
      "(12.97, 77.56)\n"
     ]
    }
   ],
   "source": [
    "home_city_coordinates = (filtered.iloc[0]['lat'], filtered.iloc[0]['lng'])\n",
    "print(home_city_coordinates)"
   ]
  },
  {
   "cell_type": "markdown",
   "metadata": {
    "id": "8OqFEJOLoD0k"
   },
   "source": [
    "## Performing calculations\n",
    "\n",
    "Let's learn how to do calculations on a dataframe. We can iterate over each row and perform some calculations. But pandas provide a much more efficient way. You can use the `apply()` method to run a function on each row. This is fast and makes it easy to complex computations on large datasets.\n",
    "\n",
    "The `apply()` function takes 2 arguments. A function to apply, and the axis along which to apply it. `axis=0` means it will be applied to columns and `axis=1` means it will apply to rows.\n",
    "\n",
    "![](https://github.com/spatialthoughts/courses/blob/master/code/python_foundation/images/python_foundation/pandas_axis.png?raw=1)"
   ]
  },
  {
   "cell_type": "code",
   "execution_count": 16,
   "metadata": {
    "id": "rWffqS-hoD0l"
   },
   "outputs": [
    {
     "name": "stdout",
     "output_type": "stream",
     "text": [
      "3        837.185709\n",
      "5       1738.638856\n",
      "7       1552.637823\n",
      "34       295.340107\n",
      "36         0.000000\n",
      "           ...     \n",
      "7305     230.567496\n",
      "7441    2312.574457\n",
      "7583    2383.154991\n",
      "7681    2195.314732\n",
      "9384    1106.693243\n",
      "Length: 212, dtype: float64\n"
     ]
    }
   ],
   "source": [
    "from geopy import distance\n",
    "\n",
    "def calculate_distance(row):\n",
    "    city_coordinates = (row['lat'], row['lng'])\n",
    "    return distance.geodesic(city_coordinates, home_city_coordinates).km\n",
    "\n",
    "result = country_df.apply(calculate_distance, axis=1)\n",
    "print(result)"
   ]
  },
  {
   "cell_type": "markdown",
   "metadata": {
    "id": "MmfEHMsDoD0m"
   },
   "source": [
    "We can add these results to the dataframe by simply assigning the result to a new column."
   ]
  },
  {
   "cell_type": "code",
   "execution_count": 17,
   "metadata": {
    "id": "TM6Rf_BkoD0m"
   },
   "outputs": [
    {
     "name": "stdout",
     "output_type": "stream",
     "text": [
      "           city city_ascii      lat      lng country iso2 iso3  \\\n",
      "3        Mumbai     Mumbai  19.0170  72.8570   India   IN  IND   \n",
      "5         Delhi      Delhi  28.6700  77.2300   India   IN  IND   \n",
      "7       Kolkata    Kolkata  22.4950  88.3247   India   IN  IND   \n",
      "34      Chennai    Chennai  13.0900  80.2800   India   IN  IND   \n",
      "36    Bengalūru  Bengaluru  12.9700  77.5600   India   IN  IND   \n",
      "...         ...        ...      ...      ...     ...  ...  ...   \n",
      "7305      Karūr      Karur  10.9504  78.0833   India   IN  IND   \n",
      "7441     Jorhāt     Jorhat  26.7500  94.2167   India   IN  IND   \n",
      "7583      Sopur      Sopur  34.3000  74.4667   India   IN  IND   \n",
      "7681     Tezpur     Tezpur  26.6338  92.8000   India   IN  IND   \n",
      "9384        Diu        Diu  20.7197  70.9904   India   IN  IND   \n",
      "\n",
      "             admin_name capital  population          id     distance  \n",
      "3           Mahārāshtra   admin  18978000.0  1356226629   837.185709  \n",
      "5                 Delhi   admin  15926000.0  1356872604  1738.638856  \n",
      "7           West Bengal   admin  14787000.0  1356060520  1552.637823  \n",
      "34          Tamil Nādu    admin   7163000.0  1356374944   295.340107  \n",
      "36            Karnātaka   admin   6787000.0  1356410365     0.000000  \n",
      "...                 ...     ...         ...         ...          ...  \n",
      "7305        Tamil Nādu      NaN     76915.0  1356837900   230.567496  \n",
      "7441              Assam     NaN     69033.0  1356638741  2312.574457  \n",
      "7583  Jammu and Kashmīr     NaN     63035.0  1356978065  2383.154991  \n",
      "7681              Assam     NaN     58851.0  1356299437  2195.314732  \n",
      "9384      Damān and Diu     NaN     23779.0  1356923516  1106.693243  \n",
      "\n",
      "[212 rows x 12 columns]\n"
     ]
    }
   ],
   "source": [
    "country_df['distance'] = result\n",
    "print(country_df)"
   ]
  },
  {
   "cell_type": "markdown",
   "metadata": {
    "id": "3klAKlBToD0n"
   },
   "source": [
    "We are done with our analysis and ready to save the results. We can further filter the results to only certain columns."
   ]
  },
  {
   "cell_type": "code",
   "execution_count": 18,
   "metadata": {
    "id": "r-1ULEl7oD0n"
   },
   "outputs": [
    {
     "name": "stdout",
     "output_type": "stream",
     "text": [
      "     city_ascii     distance\n",
      "3        Mumbai   837.185709\n",
      "5         Delhi  1738.638856\n",
      "7       Kolkata  1552.637823\n",
      "34      Chennai   295.340107\n",
      "36    Bengaluru     0.000000\n",
      "...         ...          ...\n",
      "7305      Karur   230.567496\n",
      "7441     Jorhat  2312.574457\n",
      "7583      Sopur  2383.154991\n",
      "7681     Tezpur  2195.314732\n",
      "9384        Diu  1106.693243\n",
      "\n",
      "[212 rows x 2 columns]\n"
     ]
    }
   ],
   "source": [
    "filtered = country_df[['city_ascii','distance']]\n",
    "print(filtered)"
   ]
  },
  {
   "cell_type": "markdown",
   "metadata": {
    "id": "392s3zXKoD0u"
   },
   "source": [
    "Let's rename the `city_ascii` column to give it a more readable name."
   ]
  },
  {
   "cell_type": "code",
   "execution_count": 19,
   "metadata": {
    "id": "_Weu8VN3oD0u"
   },
   "outputs": [
    {
     "name": "stdout",
     "output_type": "stream",
     "text": [
      "           city     distance\n",
      "3        Mumbai   837.185709\n",
      "5         Delhi  1738.638856\n",
      "7       Kolkata  1552.637823\n",
      "34      Chennai   295.340107\n",
      "36    Bengaluru     0.000000\n",
      "...         ...          ...\n",
      "7305      Karur   230.567496\n",
      "7441     Jorhat  2312.574457\n",
      "7583      Sopur  2383.154991\n",
      "7681     Tezpur  2195.314732\n",
      "9384        Diu  1106.693243\n",
      "\n",
      "[212 rows x 2 columns]\n"
     ]
    }
   ],
   "source": [
    "filtered = filtered.rename(columns = {'city_ascii': 'city'})\n",
    "print(filtered)"
   ]
  },
  {
   "cell_type": "markdown",
   "metadata": {
    "id": "RKfAJq8KoD0v"
   },
   "source": [
    "Now that we have added filtered the original data and computed the distance for all cities, we can save the resulting dataframe to a file. Similar to read methods, Pandas have several write methods, such as `to_csv()`, `to_excel()` etc.\n",
    "\n",
    "Here we will use the `to_csv()` method to write a CSV file. Pandas assigns an index column (unique integer values) to a dataframe by default. We specify `index=False` so that this index is not added to our output."
   ]
  },
  {
   "cell_type": "code",
   "execution_count": 21,
   "metadata": {
    "id": "qEK2rDbPoD0v"
   },
   "outputs": [
    {
     "name": "stdout",
     "output_type": "stream",
     "text": [
      "Successfully written output file at output\\cities_distance_pandas.csv\n"
     ]
    }
   ],
   "source": [
    "output_filename = 'cities_distance_pandas.csv'\n",
    "output_dir = 'output'\n",
    "output_path = os.path.join(output_dir, output_filename)\n",
    "filtered.to_csv(output_path, index=False)\n",
    "print('Successfully written output file at {}'.format(output_path))"
   ]
  },
  {
   "cell_type": "markdown",
   "metadata": {
    "id": "kBKgj5LMoD0w"
   },
   "source": [
    "## Exercise\n",
    "\n",
    "You will notice that the output file contains a row with the `home_city` as well. Modify the `filtered` dataframe to remove this row and write the results to a file.\n",
    "\n",
    "Hint: Use the Boolean filtering method we learnt earlier to select rows that do not match the `home_city`."
   ]
  },
  {
   "cell_type": "code",
   "execution_count": 24,
   "metadata": {
    "id": "4ed2PpHCoGI5"
   },
   "outputs": [
    {
     "data": {
      "text/html": [
       "<div>\n",
       "<style scoped>\n",
       "    .dataframe tbody tr th:only-of-type {\n",
       "        vertical-align: middle;\n",
       "    }\n",
       "\n",
       "    .dataframe tbody tr th {\n",
       "        vertical-align: top;\n",
       "    }\n",
       "\n",
       "    .dataframe thead th {\n",
       "        text-align: right;\n",
       "    }\n",
       "</style>\n",
       "<table border=\"1\" class=\"dataframe\">\n",
       "  <thead>\n",
       "    <tr style=\"text-align: right;\">\n",
       "      <th></th>\n",
       "      <th>city</th>\n",
       "      <th>distance</th>\n",
       "    </tr>\n",
       "  </thead>\n",
       "  <tbody>\n",
       "    <tr>\n",
       "      <th>3</th>\n",
       "      <td>Mumbai</td>\n",
       "      <td>837.185709</td>\n",
       "    </tr>\n",
       "    <tr>\n",
       "      <th>5</th>\n",
       "      <td>Delhi</td>\n",
       "      <td>1738.638856</td>\n",
       "    </tr>\n",
       "    <tr>\n",
       "      <th>7</th>\n",
       "      <td>Kolkata</td>\n",
       "      <td>1552.637823</td>\n",
       "    </tr>\n",
       "    <tr>\n",
       "      <th>34</th>\n",
       "      <td>Chennai</td>\n",
       "      <td>295.340107</td>\n",
       "    </tr>\n",
       "    <tr>\n",
       "      <th>41</th>\n",
       "      <td>Hyderabad</td>\n",
       "      <td>500.047729</td>\n",
       "    </tr>\n",
       "    <tr>\n",
       "      <th>...</th>\n",
       "      <td>...</td>\n",
       "      <td>...</td>\n",
       "    </tr>\n",
       "    <tr>\n",
       "      <th>7305</th>\n",
       "      <td>Karur</td>\n",
       "      <td>230.567496</td>\n",
       "    </tr>\n",
       "    <tr>\n",
       "      <th>7441</th>\n",
       "      <td>Jorhat</td>\n",
       "      <td>2312.574457</td>\n",
       "    </tr>\n",
       "    <tr>\n",
       "      <th>7583</th>\n",
       "      <td>Sopur</td>\n",
       "      <td>2383.154991</td>\n",
       "    </tr>\n",
       "    <tr>\n",
       "      <th>7681</th>\n",
       "      <td>Tezpur</td>\n",
       "      <td>2195.314732</td>\n",
       "    </tr>\n",
       "    <tr>\n",
       "      <th>9384</th>\n",
       "      <td>Diu</td>\n",
       "      <td>1106.693243</td>\n",
       "    </tr>\n",
       "  </tbody>\n",
       "</table>\n",
       "<p>211 rows × 2 columns</p>\n",
       "</div>"
      ],
      "text/plain": [
       "           city     distance\n",
       "3        Mumbai   837.185709\n",
       "5         Delhi  1738.638856\n",
       "7       Kolkata  1552.637823\n",
       "34      Chennai   295.340107\n",
       "41    Hyderabad   500.047729\n",
       "...         ...          ...\n",
       "7305      Karur   230.567496\n",
       "7441     Jorhat  2312.574457\n",
       "7583      Sopur  2383.154991\n",
       "7681     Tezpur  2195.314732\n",
       "9384        Diu  1106.693243\n",
       "\n",
       "[211 rows x 2 columns]"
      ]
     },
     "execution_count": 24,
     "metadata": {},
     "output_type": "execute_result"
    }
   ],
   "source": [
    "import os\n",
    "from geopy import distance\n",
    "import pandas as pd\n",
    "\n",
    "def calculate_distance(row):\n",
    "    city_coordinates = (row['lat'], row['lng'])\n",
    "    return distance.geodesic(city_coordinates, home_city_coordinates).km\n",
    "\n",
    "data_pkg_path = 'data'\n",
    "filename = 'worldcities.csv'\n",
    "path = os.path.join(data_pkg_path, filename)\n",
    "df = pd.read_csv(path)\n",
    "\n",
    "home_country = 'India'\n",
    "home_city = 'Bengaluru'\n",
    "\n",
    "country_df = df[df['country'] == home_country].copy()\n",
    "filtered = country_df[country_df['city_ascii'] == home_city]\n",
    "home_city_coordinates = (filtered.iloc[0]['lat'], filtered.iloc[0]['lng'])\n",
    "\n",
    "country_df['distance'] = country_df.apply(calculate_distance, axis=1)\n",
    "filtered = country_df[['city_ascii','distance']]\n",
    "filtered = filtered.rename(columns = {'city_ascii': 'city'})\n",
    "filtered = filtered[filtered['city'] != home_city]\n",
    "filtered"
   ]
  },
  {
   "cell_type": "markdown",
   "metadata": {
    "id": "nJD9FGZPoD0w"
   },
   "source": [
    "----"
   ]
  }
 ],
 "metadata": {
  "colab": {
   "provenance": []
  },
  "kernelspec": {
   "display_name": "Python 3 (ipykernel)",
   "language": "python",
   "name": "python3"
  },
  "language_info": {
   "codemirror_mode": {
    "name": "ipython",
    "version": 3
   },
   "file_extension": ".py",
   "mimetype": "text/x-python",
   "name": "python",
   "nbconvert_exporter": "python",
   "pygments_lexer": "ipython3",
   "version": "3.10.12"
  }
 },
 "nbformat": 4,
 "nbformat_minor": 4
}
