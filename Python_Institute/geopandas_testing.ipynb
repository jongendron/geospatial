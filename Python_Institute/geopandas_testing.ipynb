{
 "cells": [
  {
   "cell_type": "code",
   "execution_count": 2,
   "metadata": {},
   "outputs": [],
   "source": [
    "import pandas as pd\n",
    "import numpy as np\n",
    "import geopandas as gpd\n",
    "import os"
   ]
  },
  {
   "cell_type": "code",
   "execution_count": 3,
   "metadata": {},
   "outputs": [],
   "source": [
    "input_path = \"data\"\n",
    "file = 'karnataka.gpkg'\n",
    "path = os.path.join(input_path, file)"
   ]
  },
  {
   "cell_type": "code",
   "execution_count": 6,
   "metadata": {},
   "outputs": [
    {
     "name": "stdout",
     "output_type": "stream",
     "text": [
      "<class 'geopandas.geodataframe.GeoDataFrame'>\n",
      "RangeIndex: 30 entries, 0 to 29\n",
      "Data columns (total 6 columns):\n",
      " #   Column      Non-Null Count  Dtype   \n",
      "---  ------      --------------  -----   \n",
      " 0   DISTRICT    30 non-null     object  \n",
      " 1   ST_NM       30 non-null     object  \n",
      " 2   ST_CEN_CD   30 non-null     int64   \n",
      " 3   DT_CEN_CD   30 non-null     int64   \n",
      " 4   censuscode  30 non-null     int64   \n",
      " 5   geometry    30 non-null     geometry\n",
      "dtypes: geometry(1), int64(3), object(2)\n",
      "memory usage: 1.5+ KB\n",
      "None\n",
      "\n",
      "            DISTRICT      ST_NM  ST_CEN_CD  DT_CEN_CD  censuscode  \\\n",
      "0           Bagalkot  Karnataka         29          2         556   \n",
      "1    Bangalore Rural  Karnataka         29         29         583   \n",
      "2          Bangalore  Karnataka         29         18         572   \n",
      "3            Belgaum  Karnataka         29          1         555   \n",
      "4            Bellary  Karnataka         29         11         565   \n",
      "5              Bidar  Karnataka         29          4         558   \n",
      "6            Bijapur  Karnataka         29          3         557   \n",
      "7       Chamrajnagar  Karnataka         29         24         578   \n",
      "8    Chikkaballapura  Karnataka         29         28         582   \n",
      "9        Chikmagalur  Karnataka         29         16         570   \n",
      "10       Chitradurga  Karnataka         29         12         566   \n",
      "11  Dakshina Kannada  Karnataka         29         21         575   \n",
      "12        Davanagere  Karnataka         29         13         567   \n",
      "13           Dharwad  Karnataka         29          8         562   \n",
      "14             Gadag  Karnataka         29          7         561   \n",
      "15          Gulbarga  Karnataka         29         25         579   \n",
      "16            Hassan  Karnataka         29         20         574   \n",
      "17            Haveri  Karnataka         29         10         564   \n",
      "18            Kodagu  Karnataka         29         22         576   \n",
      "19             Kolar  Karnataka         29         27         581   \n",
      "20            Koppal  Karnataka         29          6         560   \n",
      "21            Mandya  Karnataka         29         19         573   \n",
      "22            Mysore  Karnataka         29         23         577   \n",
      "23           Raichur  Karnataka         29          5         559   \n",
      "24        Ramanagara  Karnataka         29         30         584   \n",
      "25           Shimoga  Karnataka         29         14         568   \n",
      "26            Tumkur  Karnataka         29         17         571   \n",
      "27             Udupi  Karnataka         29         15         569   \n",
      "28    Uttara Kannada  Karnataka         29          9         563   \n",
      "29            Yadgir  Karnataka         29         26         580   \n",
      "\n",
      "                                             geometry  \n",
      "0   MULTIPOLYGON (((76.24100 16.16531, 76.23538 16...  \n",
      "1   MULTIPOLYGON (((77.38701 13.50002, 77.40099 13...  \n",
      "2   MULTIPOLYGON (((77.83549 12.86809, 77.83213 12...  \n",
      "3   MULTIPOLYGON (((75.02647 16.93264, 75.02827 16...  \n",
      "4   MULTIPOLYGON (((77.15757 15.13706, 77.15887 15...  \n",
      "5   MULTIPOLYGON (((77.34032 18.43689, 77.34510 18...  \n",
      "6   MULTIPOLYGON (((76.07344 17.33403, 76.07030 17...  \n",
      "7   MULTIPOLYGON (((77.32282 12.30709, 77.32726 12...  \n",
      "8   MULTIPOLYGON (((78.19960 13.56615, 78.19897 13...  \n",
      "9   MULTIPOLYGON (((76.35411 13.57770, 76.35611 13...  \n",
      "10  MULTIPOLYGON (((76.76081 14.98800, 76.76246 14...  \n",
      "11  MULTIPOLYGON (((75.20194 13.18140, 75.20992 13...  \n",
      "12  MULTIPOLYGON (((76.50830 14.56379, 76.50964 14...  \n",
      "13  MULTIPOLYGON (((75.41951 15.06168, 75.41887 15...  \n",
      "14  MULTIPOLYGON (((75.84568 15.83773, 75.87617 15...  \n",
      "15  MULTIPOLYGON (((76.69220 17.68175, 76.69516 17...  \n",
      "16  MULTIPOLYGON (((76.63191 13.00563, 76.63216 13...  \n",
      "17  MULTIPOLYGON (((75.41951 15.06168, 75.42000 15...  \n",
      "18  MULTIPOLYGON (((76.02082 12.56650, 76.01460 12...  \n",
      "19  MULTIPOLYGON (((77.92568 13.23829, 77.93388 13...  \n",
      "20  MULTIPOLYGON (((76.28563 15.90133, 76.28563 15...  \n",
      "21  MULTIPOLYGON (((76.68466 13.04283, 76.69453 13...  \n",
      "22  MULTIPOLYGON (((77.11309 12.24232, 77.12558 12...  \n",
      "23  MULTIPOLYGON (((77.28865 16.40704, 77.29859 16...  \n",
      "24  MULTIPOLYGON (((77.20467 13.18377, 77.20798 13...  \n",
      "25  MULTIPOLYGON (((75.53624 14.27739, 75.53540 14...  \n",
      "26  MULTIPOLYGON (((76.97715 14.05873, 76.95530 14...  \n",
      "27  MULTIPOLYGON (((75.14023 13.46326, 75.14106 13...  \n",
      "28  MULTIPOLYGON (((74.32141 15.51751, 74.32975 15...  \n",
      "29  MULTIPOLYGON (((77.45652 16.88511, 77.46166 16...  \n"
     ]
    }
   ],
   "source": [
    "karnataka_gpd = gpd.read_file(path)\n",
    "print(karnataka_gpd.info())\n",
    "print()\n",
    "print(karnataka_gpd)"
   ]
  }
 ],
 "metadata": {
  "kernelspec": {
   "display_name": "Python 3",
   "language": "python",
   "name": "python3"
  },
  "language_info": {
   "codemirror_mode": {
    "name": "ipython",
    "version": 3
   },
   "file_extension": ".py",
   "mimetype": "text/x-python",
   "name": "python",
   "nbconvert_exporter": "python",
   "pygments_lexer": "ipython3",
   "version": "3.10.12"
  },
  "orig_nbformat": 4
 },
 "nbformat": 4,
 "nbformat_minor": 2
}
